{
 "cells": [
  {
   "cell_type": "code",
   "execution_count": 1,
   "metadata": {},
   "outputs": [],
   "source": [
    "# Import required libraries  \n",
    "import os  \n",
    "import json  \n",
    "import requests\n",
    "import http.client, urllib.parse\n",
    "from tenacity import retry, stop_after_attempt, wait_fixed\n",
    "from dotenv import load_dotenv  \n",
    "from azure.core.credentials import AzureKeyCredential\n",
    "from azure.identity import DefaultAzureCredential\n",
    "from azure.search.documents import SearchClient  \n",
    "from azure.search.documents.indexes import SearchIndexClient  \n",
    "from azure.search.documents.models import (\n",
    "    RawVectorQuery,\n",
    ")\n",
    "from azure.search.documents.indexes.models import (  \n",
    " \n",
    "    ExhaustiveKnnParameters,  \n",
    "    ExhaustiveKnnVectorSearchAlgorithmConfiguration,\n",
    "    HnswParameters,  \n",
    "    HnswVectorSearchAlgorithmConfiguration,\n",
    "    SimpleField,\n",
    "    SearchField,  \n",
    "    SearchFieldDataType,  \n",
    "    SearchIndex,  \n",
    "    VectorSearch,  \n",
    "    VectorSearchAlgorithmKind,  \n",
    "    VectorSearchProfile,  \n",
    ")\n",
    "\n",
    "from IPython.display import Image, display\n",
    "\n",
    "from sklearn.metrics.pairwise import cosine_similarity\n",
    "  \n",
    "load_dotenv()  \n",
    "service_endpoint = os.getenv(\"AZURE_SEARCH_SERVICE_ENDPOINT\")  \n",
    "index_name = os.getenv(\"AZURE_SEARCH_INDEX_NAME\")\n",
    "api_version = os.getenv(\"AZURE_SEARCH_API_VERSION\")\n",
    "key = os.getenv(\"AZURE_SEARCH_ADMIN_KEY\")  \n",
    "aiVisionApiKey = os.getenv(\"AZURE_AI_VISION_API_KEY\")  \n",
    "aiVisionRegion = os.getenv(\"AZURE_AI_VISION_REGION\")\n",
    "aiVisionEndpoint = os.getenv(\"AZURE_AI_VISION_ENDPOINT\")\n",
    "credential = DefaultAzureCredential()"
   ]
  },
  {
   "cell_type": "code",
   "execution_count": 2,
   "metadata": {},
   "outputs": [],
   "source": [
    "FILE_PATH='images'"
   ]
  },
  {
   "cell_type": "code",
   "execution_count": 3,
   "metadata": {},
   "outputs": [],
   "source": [
    "@retry(stop=stop_after_attempt(5), wait=wait_fixed(1))\n",
    "def get_image_vector(image_path, key, region):\n",
    "    headers = {\n",
    "        'Ocp-Apim-Subscription-Key': key,\n",
    "    }\n",
    "\n",
    "    params = urllib.parse.urlencode({\n",
    "        'model-version': '2023-04-15',\n",
    "    })\n",
    "\n",
    "    try:\n",
    "        if image_path.startswith(('http://', 'https://')):\n",
    "            headers['Content-Type'] = 'application/json'              \n",
    "            body = json.dumps({\"url\": image_path})\n",
    "        else:\n",
    "            headers['Content-Type'] = 'application/octet-stream'\n",
    "            with open(image_path, \"rb\") as filehandler:\n",
    "                image_data = filehandler.read()\n",
    "                body = image_data\n",
    "\n",
    "        conn = http.client.HTTPSConnection(f'{region}.api.cognitive.microsoft.com', timeout=3)\n",
    "        conn.request(\"POST\", \"/computervision/retrieval:vectorizeImage?api-version=2023-04-01-preview&%s\" % params, body, headers)\n",
    "        response = conn.getresponse()\n",
    "        data = json.load(response)\n",
    "        conn.close()\n",
    "\n",
    "        if response.status != 200:\n",
    "            raise Exception(f\"Error processing image {image_path}: {data.get('message', '')}\")\n",
    "\n",
    "        return data.get(\"vector\")\n",
    "\n",
    "    except (requests.exceptions.Timeout, http.client.HTTPException) as e:\n",
    "        print(f\"Timeout/Error for {image_path}. Retrying...\")\n",
    "        raise\n"
   ]
  },
  {
   "cell_type": "code",
   "execution_count": 4,
   "metadata": {},
   "outputs": [],
   "source": [
    "import os"
   ]
  },
  {
   "cell_type": "code",
   "execution_count": 5,
   "metadata": {},
   "outputs": [],
   "source": [
    "FILES = os.listdir(FILE_PATH)"
   ]
  },
  {
   "cell_type": "code",
   "execution_count": 6,
   "metadata": {},
   "outputs": [
    {
     "data": {
      "text/plain": [
       "['Braeburn.jpeg',\n",
       " 'Fiji.jpeg',\n",
       " 'GoldenDelicious.jpeg',\n",
       " 'GrannySmith.jpeg',\n",
       " 'Honeycrisp.jpeg',\n",
       " 'Jonagold.jpeg',\n",
       " 'PIC01.jpeg',\n",
       " 'PIC02.jpeg',\n",
       " 'PIC03.jpeg',\n",
       " 'PIC04.jpeg',\n",
       " 'PIC05.jpeg',\n",
       " 'PIC06.jpeg',\n",
       " 'PinkLady.jpeg',\n",
       " 'RedDelicious.jpeg',\n",
       " 'Rome.jpeg',\n",
       " 'two_apples.jpeg']"
      ]
     },
     "execution_count": 6,
     "metadata": {},
     "output_type": "execute_result"
    }
   ],
   "source": [
    "FILES"
   ]
  },
  {
   "cell_type": "code",
   "execution_count": 7,
   "metadata": {},
   "outputs": [],
   "source": [
    "image_embeddings = {}"
   ]
  },
  {
   "cell_type": "code",
   "execution_count": 8,
   "metadata": {},
   "outputs": [],
   "source": [
    "DIR_PATH = os.path.join(os.getcwd(), FILE_PATH)"
   ]
  },
  {
   "cell_type": "code",
   "execution_count": 9,
   "metadata": {},
   "outputs": [
    {
     "data": {
      "text/plain": [
       "'c:\\\\Ambarish\\\\AzureAI-ImageSearch\\\\images'"
      ]
     },
     "execution_count": 9,
     "metadata": {},
     "output_type": "execute_result"
    }
   ],
   "source": [
    "DIR_PATH"
   ]
  },
  {
   "cell_type": "code",
   "execution_count": 10,
   "metadata": {},
   "outputs": [
    {
     "data": {
      "text/plain": [
       "'c:\\\\Ambarish\\\\AzureAI-ImageSearch\\\\images\\\\file1.jpg'"
      ]
     },
     "execution_count": 10,
     "metadata": {},
     "output_type": "execute_result"
    }
   ],
   "source": [
    "os.path.join(DIR_PATH, \"file1.jpg\")"
   ]
  },
  {
   "cell_type": "code",
   "execution_count": 11,
   "metadata": {},
   "outputs": [],
   "source": [
    "for file in FILES:\n",
    "    image_embeddings[file] = get_image_vector(os.path.join(DIR_PATH, file), \n",
    "                                    aiVisionApiKey, aiVisionRegion)"
   ]
  },
  {
   "cell_type": "code",
   "execution_count": null,
   "metadata": {},
   "outputs": [],
   "source": [
    "counter = 0"
   ]
  },
  {
   "cell_type": "code",
   "execution_count": null,
   "metadata": {},
   "outputs": [],
   "source": [
    "input_data =[]"
   ]
  },
  {
   "cell_type": "code",
   "execution_count": null,
   "metadata": {},
   "outputs": [],
   "source": [
    "for file in FILES:\n",
    "    d= {}\n",
    "    d[\"id\"] = str(counter)\n",
    "    d[\"description\"] = file\n",
    "    d[\"image_vector\"] = image_embeddings[file]\n",
    "    input_data.append(d)\n",
    "    counter += 1"
   ]
  },
  {
   "cell_type": "code",
   "execution_count": null,
   "metadata": {},
   "outputs": [],
   "source": [
    "# Output embeddings to docVectors.json file\n",
    "with open(\"output/docVectors.json\", \"w\") as f:\n",
    "    json.dump(input_data, f)"
   ]
  },
  {
   "cell_type": "code",
   "execution_count": null,
   "metadata": {},
   "outputs": [],
   "source": []
  }
 ],
 "metadata": {
  "kernelspec": {
   "display_name": ".venv",
   "language": "python",
   "name": "python3"
  },
  "language_info": {
   "codemirror_mode": {
    "name": "ipython",
    "version": 3
   },
   "file_extension": ".py",
   "mimetype": "text/x-python",
   "name": "python",
   "nbconvert_exporter": "python",
   "pygments_lexer": "ipython3",
   "version": "3.11.6"
  }
 },
 "nbformat": 4,
 "nbformat_minor": 2
}
